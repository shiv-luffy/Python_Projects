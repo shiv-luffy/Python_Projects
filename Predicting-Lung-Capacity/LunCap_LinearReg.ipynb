{
 "cells": [
  {
   "cell_type": "markdown",
   "metadata": {},
   "source": [
    "### Linear Regression"
   ]
  },
  {
   "cell_type": "markdown",
   "metadata": {},
   "source": [
    "**Steps involved in the model building**\n",
    "\n",
    "1. Problem Statment /undestand requirment\n",
    "2. Data collection / data gethering\n",
    "3. Data precprocessing / data cleaning /data prepration(null values, convert to non numeric, etc)\n",
    "4. Sampling( divide data into train and test)\n",
    "5. Training ( model creation)\n",
    "6. Testing( model validation)"
   ]
  },
  {
   "cell_type": "code",
   "execution_count": 5,
   "metadata": {},
   "outputs": [],
   "source": [
    "import numpy as np\n",
    "import pandas as pd\n",
    "from sklearn.model_selection import train_test_split\n",
    "from sklearn.linear_model import LinearRegression"
   ]
  },
  {
   "cell_type": "code",
   "execution_count": 6,
   "metadata": {},
   "outputs": [],
   "source": [
    "lcn = pd.read_csv(\"LungCapData.csv\") #lungcap is the target variable"
   ]
  },
  {
   "cell_type": "code",
   "execution_count": 7,
   "metadata": {},
   "outputs": [],
   "source": [
    "lcn.Gender.replace({\"male\" :1 , \"female\":0} ,inplace = True)\n",
    "lcn.Smoke.replace({\"no\" : 0 , \"yes\" :1} , inplace = True)\n",
    "lcn.Caesarean.replace({\"no\" : 0 , \"yes\" :1} , inplace = True)"
   ]
  },
  {
   "cell_type": "code",
   "execution_count": 8,
   "metadata": {},
   "outputs": [],
   "source": [
    "#seprate my X and Y\n",
    "lcn_x = lcn.iloc[: , [1,2,3,4,5]]\n",
    "lcn_y = lcn.iloc[: , 0]"
   ]
  },
  {
   "cell_type": "code",
   "execution_count": 9,
   "metadata": {},
   "outputs": [],
   "source": [
    "#train/test split\n",
    "lcn_x_train , lcn_x_test, lcn_y_train, lcn_y_test = train_test_split(lcn_x , lcn_y , test_size  = .2)"
   ]
  },
  {
   "cell_type": "code",
   "execution_count": 10,
   "metadata": {},
   "outputs": [],
   "source": [
    "# object / instance / running the model for first time\n",
    "reg = LinearRegression()"
   ]
  },
  {
   "cell_type": "code",
   "execution_count": 11,
   "metadata": {},
   "outputs": [
    {
     "data": {
      "text/plain": [
       "LinearRegression()"
      ]
     },
     "execution_count": 11,
     "metadata": {},
     "output_type": "execute_result"
    }
   ],
   "source": [
    "reg.fit(lcn_x_train, lcn_y_train) # model has been created \n",
    "#model is created using fit function -----> and the synatx is x, y"
   ]
  },
  {
   "cell_type": "code",
   "execution_count": 12,
   "metadata": {},
   "outputs": [],
   "source": [
    "pred_train = reg.predict(lcn_x_train)\n",
    "pred_test = reg.predict(lcn_x_test)"
   ]
  },
  {
   "cell_type": "code",
   "execution_count": 13,
   "metadata": {},
   "outputs": [
    {
     "name": "stdout",
     "output_type": "stream",
     "text": [
      "Coefficients ----> [ 0.17463375  0.25720706 -0.71898155  0.42660787 -0.20746565]\n",
      "Index(['Age', 'Height', 'Smoke', 'Gender', 'Caesarean'], dtype='object')\n",
      "Intercept    ----> -11.064104639556117\n"
     ]
    }
   ],
   "source": [
    "print(\"Coefficients ---->\",reg.coef_)  # are the co-effiecents ( Beta Values)\n",
    "print(lcn_x_train.columns) # these coeff are the 5 x variable\n",
    "print(\"Intercept    ---->\",reg.intercept_)  # Beta-not value"
   ]
  },
  {
   "cell_type": "code",
   "execution_count": 14,
   "metadata": {},
   "outputs": [],
   "source": [
    "Rsquare  = reg.score(lcn_x_train , lcn_y_train)"
   ]
  },
  {
   "cell_type": "code",
   "execution_count": 15,
   "metadata": {},
   "outputs": [],
   "source": [
    "# Adjusted Rsquare \n",
    "#AdjRSquare  =  1 - (1- Rsquare) * ( N -1) /  ( N -  K  -  1)\n",
    "\n",
    "N = lcn_x_train.shape[0]\n",
    "\n",
    "K = lcn_x_train.shape[1]\n",
    "Rsquare  = reg.score(lcn_x_train , lcn_y_train)"
   ]
  },
  {
   "cell_type": "code",
   "execution_count": 16,
   "metadata": {},
   "outputs": [
    {
     "name": "stdout",
     "output_type": "stream",
     "text": [
      "Adjusted Rsquare is     ---- >    0.8547733390520561\n"
     ]
    }
   ],
   "source": [
    "AdjRSquare  =  1 - (1- Rsquare) * ( N -1) /  ( N -  K  -  1)\n",
    "\n",
    "print(\"Adjusted Rsquare is     ---- >   \"  , AdjRSquare)"
   ]
  },
  {
   "cell_type": "code",
   "execution_count": 17,
   "metadata": {},
   "outputs": [
    {
     "name": "stdout",
     "output_type": "stream",
     "text": [
      "Error    ----> 1.554312234475219e-16\n"
     ]
    }
   ],
   "source": [
    "error_train =lcn_y_train - pred_train\n",
    "print(\"Error    ---->\",np.mean(error_train))"
   ]
  },
  {
   "cell_type": "code",
   "execution_count": 18,
   "metadata": {},
   "outputs": [],
   "source": [
    "error_test = lcn_y_test - pred_test"
   ]
  },
  {
   "cell_type": "code",
   "execution_count": 20,
   "metadata": {},
   "outputs": [],
   "source": [
    "import matplotlib.pyplot as plt\n",
    "import seaborn as sns"
   ]
  },
  {
   "cell_type": "code",
   "execution_count": 21,
   "metadata": {},
   "outputs": [
    {
     "data": {
      "text/plain": [
       "<AxesSubplot:xlabel='LungCap'>"
      ]
     },
     "execution_count": 21,
     "metadata": {},
     "output_type": "execute_result"
    },
    {
     "data": {
      "image/png": "[encoded data removed]",
      "text/plain": [
       "<Figure size 432x288 with 1 Axes>"
      ]
     },
     "metadata": {
      "needs_background": "light"
     },
     "output_type": "display_data"
    }
   ],
   "source": [
    "sns.distplot(error_train) # errors are normally distrubted "
   ]
  },
  {
   "cell_type": "code",
   "execution_count": 22,
   "metadata": {},
   "outputs": [
    {
     "data": {
      "text/plain": [
       "(array([  1.,  15.,  40.,  82., 108., 143., 111.,  62.,  14.,   4.]),\n",
       " array([-3.32819649, -2.69130254, -2.05440859, -1.41751464, -0.7806207 ,\n",
       "        -0.14372675,  0.4931672 ,  1.13006115,  1.76695509,  2.40384904,\n",
       "         3.04074299]),\n",
       " <BarContainer object of 10 artists>)"
      ]
     },
     "execution_count": 22,
     "metadata": {},
     "output_type": "execute_result"
    },
    {
     "data": {
      "image/png": "[encoded data removed]",
      "text/plain": [
       "<Figure size 432x288 with 1 Axes>"
      ]
     },
     "metadata": {
      "needs_background": "light"
     },
     "output_type": "display_data"
    }
   ],
   "source": [
    "plt.hist(error_train)"
   ]
  },
  {
   "cell_type": "code",
   "execution_count": 23,
   "metadata": {},
   "outputs": [
    {
     "name": "stdout",
     "output_type": "stream",
     "text": [
      "MSE      ---->  0.9290008489627398\n",
      "RMSE     ---->  0.9638469012051343\n",
      "MAPE     ---->  10.811943840475806\n",
      "Accuracy ---->  89.1880561595242\n"
     ]
    }
   ],
   "source": [
    "MSE  = np.mean((np.square(error_test)))\n",
    "print(\"MSE      ----> \", MSE)\n",
    "RMSE = np.sqrt(MSE)\n",
    "print(\"RMSE     ----> \", RMSE)\n",
    "MAPE =  np.mean(np.abs(error_test / lcn_y_test)* 100)\n",
    "print(\"MAPE     ----> \",MAPE)\n",
    "Acc = 100 - MAPE\n",
    "print(\"Accuracy ----> \",Acc)"
   ]
  },
  {
   "cell_type": "code",
   "execution_count": null,
   "metadata": {},
   "outputs": [],
   "source": []
  }
 ],
 "metadata": {
  "kernelspec": {
   "display_name": "Python 3",
   "language": "python",
   "name": "python3"
  },
  "language_info": {
   "codemirror_mode": {
    "name": "ipython",
    "version": 3
   },
   "file_extension": ".py",
   "mimetype": "text/x-python",
   "name": "python",
   "nbconvert_exporter": "python",
   "pygments_lexer": "ipython3",
   "version": "3.7.6"
  }
 },
 "nbformat": 4,
 "nbformat_minor": 4
}
